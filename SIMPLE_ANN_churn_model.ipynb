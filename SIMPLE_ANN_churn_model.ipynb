{
  "nbformat": 4,
  "nbformat_minor": 0,
  "metadata": {
    "colab": {
      "name": "SIMPLE_ANN_churn_model.ipynb",
      "provenance": [],
      "collapsed_sections": [],
      "mount_file_id": "1sbe2Rw3f2tuMFICC3e5IwK0qMCUyttqE",
      "authorship_tag": "ABX9TyMOt8iEKcdzTJY/56IaYTlH"
    },
    "kernelspec": {
      "name": "python3",
      "display_name": "Python 3"
    }
  },
  "cells": [
    {
      "cell_type": "code",
      "metadata": {
        "colab": {
          "base_uri": "https://localhost:8080/",
          "height": 35
        },
        "id": "E_WC9HH6MwG8",
        "outputId": "717d5643-ef72-418a-b107-d88242ad8a00"
      },
      "source": [
        "import numpy as np\r\n",
        "import pandas as pd\r\n",
        "import matplotlib.pyplot as plt\r\n",
        "import tensorflow as tf\r\n",
        "tf.__version__"
      ],
      "execution_count": 8,
      "outputs": [
        {
          "output_type": "execute_result",
          "data": {
            "application/vnd.google.colaboratory.intrinsic+json": {
              "type": "string"
            },
            "text/plain": [
              "'2.4.1'"
            ]
          },
          "metadata": {
            "tags": []
          },
          "execution_count": 8
        }
      ]
    },
    {
      "cell_type": "code",
      "metadata": {
        "id": "jsayCqGSNHm3"
      },
      "source": [
        "!cd \"/content/drive/MyDrive/Colab Notebooks/trash_testing/data\""
      ],
      "execution_count": 41,
      "outputs": []
    },
    {
      "cell_type": "code",
      "metadata": {
        "id": "Iz2FzigzNL72"
      },
      "source": [
        "data = pd.read_csv(\"/content/drive/MyDrive/Colab Notebooks/trash_testing/data/Churn_Modelling.csv\")"
      ],
      "execution_count": 42,
      "outputs": []
    },
    {
      "cell_type": "code",
      "metadata": {
        "colab": {
          "base_uri": "https://localhost:8080/",
          "height": 191
        },
        "id": "KcAGL5moNmr-",
        "outputId": "912afa29-2459-478f-da6c-12c6a98c89ea"
      },
      "source": [
        "data.head()"
      ],
      "execution_count": 43,
      "outputs": [
        {
          "output_type": "execute_result",
          "data": {
            "text/html": [
              "<div>\n",
              "<style scoped>\n",
              "    .dataframe tbody tr th:only-of-type {\n",
              "        vertical-align: middle;\n",
              "    }\n",
              "\n",
              "    .dataframe tbody tr th {\n",
              "        vertical-align: top;\n",
              "    }\n",
              "\n",
              "    .dataframe thead th {\n",
              "        text-align: right;\n",
              "    }\n",
              "</style>\n",
              "<table border=\"1\" class=\"dataframe\">\n",
              "  <thead>\n",
              "    <tr style=\"text-align: right;\">\n",
              "      <th></th>\n",
              "      <th>RowNumber</th>\n",
              "      <th>CustomerId</th>\n",
              "      <th>Surname</th>\n",
              "      <th>CreditScore</th>\n",
              "      <th>Geography</th>\n",
              "      <th>Gender</th>\n",
              "      <th>Age</th>\n",
              "      <th>Tenure</th>\n",
              "      <th>Balance</th>\n",
              "      <th>NumOfProducts</th>\n",
              "      <th>HasCrCard</th>\n",
              "      <th>IsActiveMember</th>\n",
              "      <th>EstimatedSalary</th>\n",
              "      <th>Exited</th>\n",
              "    </tr>\n",
              "  </thead>\n",
              "  <tbody>\n",
              "    <tr>\n",
              "      <th>0</th>\n",
              "      <td>1</td>\n",
              "      <td>15634602</td>\n",
              "      <td>Hargrave</td>\n",
              "      <td>619</td>\n",
              "      <td>France</td>\n",
              "      <td>Female</td>\n",
              "      <td>42</td>\n",
              "      <td>2</td>\n",
              "      <td>0.00</td>\n",
              "      <td>1</td>\n",
              "      <td>1</td>\n",
              "      <td>1</td>\n",
              "      <td>101348.88</td>\n",
              "      <td>1</td>\n",
              "    </tr>\n",
              "    <tr>\n",
              "      <th>1</th>\n",
              "      <td>2</td>\n",
              "      <td>15647311</td>\n",
              "      <td>Hill</td>\n",
              "      <td>608</td>\n",
              "      <td>Spain</td>\n",
              "      <td>Female</td>\n",
              "      <td>41</td>\n",
              "      <td>1</td>\n",
              "      <td>83807.86</td>\n",
              "      <td>1</td>\n",
              "      <td>0</td>\n",
              "      <td>1</td>\n",
              "      <td>112542.58</td>\n",
              "      <td>0</td>\n",
              "    </tr>\n",
              "    <tr>\n",
              "      <th>2</th>\n",
              "      <td>3</td>\n",
              "      <td>15619304</td>\n",
              "      <td>Onio</td>\n",
              "      <td>502</td>\n",
              "      <td>France</td>\n",
              "      <td>Female</td>\n",
              "      <td>42</td>\n",
              "      <td>8</td>\n",
              "      <td>159660.80</td>\n",
              "      <td>3</td>\n",
              "      <td>1</td>\n",
              "      <td>0</td>\n",
              "      <td>113931.57</td>\n",
              "      <td>1</td>\n",
              "    </tr>\n",
              "    <tr>\n",
              "      <th>3</th>\n",
              "      <td>4</td>\n",
              "      <td>15701354</td>\n",
              "      <td>Boni</td>\n",
              "      <td>699</td>\n",
              "      <td>France</td>\n",
              "      <td>Female</td>\n",
              "      <td>39</td>\n",
              "      <td>1</td>\n",
              "      <td>0.00</td>\n",
              "      <td>2</td>\n",
              "      <td>0</td>\n",
              "      <td>0</td>\n",
              "      <td>93826.63</td>\n",
              "      <td>0</td>\n",
              "    </tr>\n",
              "    <tr>\n",
              "      <th>4</th>\n",
              "      <td>5</td>\n",
              "      <td>15737888</td>\n",
              "      <td>Mitchell</td>\n",
              "      <td>850</td>\n",
              "      <td>Spain</td>\n",
              "      <td>Female</td>\n",
              "      <td>43</td>\n",
              "      <td>2</td>\n",
              "      <td>125510.82</td>\n",
              "      <td>1</td>\n",
              "      <td>1</td>\n",
              "      <td>1</td>\n",
              "      <td>79084.10</td>\n",
              "      <td>0</td>\n",
              "    </tr>\n",
              "  </tbody>\n",
              "</table>\n",
              "</div>"
            ],
            "text/plain": [
              "   RowNumber  CustomerId   Surname  ...  IsActiveMember EstimatedSalary Exited\n",
              "0          1    15634602  Hargrave  ...               1       101348.88      1\n",
              "1          2    15647311      Hill  ...               1       112542.58      0\n",
              "2          3    15619304      Onio  ...               0       113931.57      1\n",
              "3          4    15701354      Boni  ...               0        93826.63      0\n",
              "4          5    15737888  Mitchell  ...               1        79084.10      0\n",
              "\n",
              "[5 rows x 14 columns]"
            ]
          },
          "metadata": {
            "tags": []
          },
          "execution_count": 43
        }
      ]
    },
    {
      "cell_type": "code",
      "metadata": {
        "id": "OrKwMQzFPPRe"
      },
      "source": [
        "X = data.iloc[:, 3:-1].values\r\n",
        "y = data.iloc[:, -1].values"
      ],
      "execution_count": 44,
      "outputs": []
    },
    {
      "cell_type": "code",
      "metadata": {
        "colab": {
          "base_uri": "https://localhost:8080/"
        },
        "id": "766HbruMPeAl",
        "outputId": "b4b800de-6519-41d4-eac4-3d1083150833"
      },
      "source": [
        "# Filling the missing values in the dataFrame using sklearn.impute SimpleImputer method\r\n",
        "from sklearn.impute import SimpleImputer\r\n",
        "imputer = SimpleImputer(missing_values = np.nan, strategy = \"mean\")\r\n",
        "imputer.fit(X[:, 3:])"
      ],
      "execution_count": 47,
      "outputs": [
        {
          "output_type": "execute_result",
          "data": {
            "text/plain": [
              "SimpleImputer(add_indicator=False, copy=True, fill_value=None,\n",
              "              missing_values=nan, strategy='mean', verbose=0)"
            ]
          },
          "metadata": {
            "tags": []
          },
          "execution_count": 47
        }
      ]
    },
    {
      "cell_type": "code",
      "metadata": {
        "colab": {
          "base_uri": "https://localhost:8080/"
        },
        "id": "U2eOqoTBSE0z",
        "outputId": "84efa91d-4b0a-42f5-809d-4b3d874fed7a"
      },
      "source": [
        "X[:, 3:] = imputer.transform(X[:, 3:])\r\n",
        "print(X)"
      ],
      "execution_count": 48,
      "outputs": [
        {
          "output_type": "stream",
          "text": [
            "[[619 'France' 'Female' ... 1.0 1.0 101348.88]\n",
            " [608 'Spain' 'Female' ... 0.0 1.0 112542.58]\n",
            " [502 'France' 'Female' ... 1.0 0.0 113931.57]\n",
            " ...\n",
            " [709 'France' 'Female' ... 0.0 1.0 42085.58]\n",
            " [772 'Germany' 'Male' ... 1.0 0.0 92888.52]\n",
            " [792 'France' 'Female' ... 1.0 0.0 38190.78]]\n"
          ],
          "name": "stdout"
        }
      ]
    },
    {
      "cell_type": "code",
      "metadata": {
        "id": "XhTuvAYaTEVN"
      },
      "source": [
        "from sklearn.preprocessing import LabelEncoder\r\n",
        "encoder = LabelEncoder()\r\n",
        "X[:, 2] = encoder.fit_transform(X[:, 2])"
      ],
      "execution_count": 50,
      "outputs": []
    },
    {
      "cell_type": "code",
      "metadata": {
        "colab": {
          "base_uri": "https://localhost:8080/"
        },
        "id": "oBlquNhPX9FF",
        "outputId": "9822862e-05ed-4dac-d41e-a392ea0d7a81"
      },
      "source": [
        "X   # Female - 0 \r\n",
        "    # Male   - 1"
      ],
      "execution_count": 51,
      "outputs": [
        {
          "output_type": "execute_result",
          "data": {
            "text/plain": [
              "array([[619, 'France', 0, ..., 1.0, 1.0, 101348.88],\n",
              "       [608, 'Spain', 0, ..., 0.0, 1.0, 112542.58],\n",
              "       [502, 'France', 0, ..., 1.0, 0.0, 113931.57],\n",
              "       ...,\n",
              "       [709, 'France', 0, ..., 0.0, 1.0, 42085.58],\n",
              "       [772, 'Germany', 1, ..., 1.0, 0.0, 92888.52],\n",
              "       [792, 'France', 0, ..., 1.0, 0.0, 38190.78]], dtype=object)"
            ]
          },
          "metadata": {
            "tags": []
          },
          "execution_count": 51
        }
      ]
    },
    {
      "cell_type": "code",
      "metadata": {
        "id": "cTzxdcv1dolF"
      },
      "source": [
        "# Encoding the categorical data Geo Data column\r\n",
        "from sklearn.compose import ColumnTransformer\r\n",
        "from sklearn.preprocessing import OneHotEncoder\r\n",
        "ct = ColumnTransformer(transformers = [('encoder', OneHotEncoder(), [1])], remainder=\"passthrough\")\r\n",
        "X = np.array(ct.fit_transform(X))"
      ],
      "execution_count": 52,
      "outputs": []
    },
    {
      "cell_type": "code",
      "metadata": {
        "colab": {
          "base_uri": "https://localhost:8080/"
        },
        "id": "gc-7Dw9ceEDE",
        "outputId": "60dfac23-cc96-4743-a3cb-8ff947074ec1"
      },
      "source": [
        "X"
      ],
      "execution_count": 53,
      "outputs": [
        {
          "output_type": "execute_result",
          "data": {
            "text/plain": [
              "array([[1.0, 0.0, 0.0, ..., 1.0, 1.0, 101348.88],\n",
              "       [0.0, 0.0, 1.0, ..., 0.0, 1.0, 112542.58],\n",
              "       [1.0, 0.0, 0.0, ..., 1.0, 0.0, 113931.57],\n",
              "       ...,\n",
              "       [1.0, 0.0, 0.0, ..., 0.0, 1.0, 42085.58],\n",
              "       [0.0, 1.0, 0.0, ..., 1.0, 0.0, 92888.52],\n",
              "       [1.0, 0.0, 0.0, ..., 1.0, 0.0, 38190.78]], dtype=object)"
            ]
          },
          "metadata": {
            "tags": []
          },
          "execution_count": 53
        }
      ]
    },
    {
      "cell_type": "code",
      "metadata": {
        "id": "ayYJbtNneElE"
      },
      "source": [
        "# split to train and test sets\r\n",
        "from sklearn.model_selection import train_test_split\r\n",
        "X_train, X_test, y_train, y_test = train_test_split(X, y, test_size = 0.2, random_state = 42, stratify = y, shuffle=True)"
      ],
      "execution_count": 54,
      "outputs": []
    },
    {
      "cell_type": "code",
      "metadata": {
        "colab": {
          "base_uri": "https://localhost:8080/"
        },
        "id": "tKv8rH1IenOb",
        "outputId": "065ca3d7-5f9e-4b4f-f727-58e754187b68"
      },
      "source": [
        "print(\"The percentage of 0 class in train data: {}%\".format(round(len([x for x in y_train if x == 0]) / len(y_train) * 100), 2))\r\n",
        "\r\n",
        "print(\"The percentage of  0 class in test data: {}%\".format(round(len([x for x in y_test if x == 0]) / len(y_test)* 100), 2))"
      ],
      "execution_count": 71,
      "outputs": [
        {
          "output_type": "stream",
          "text": [
            "The percentage of 0 class in train data: 80%\n",
            "The percentage of  0 class in test data: 80%\n"
          ],
          "name": "stdout"
        }
      ]
    },
    {
      "cell_type": "code",
      "metadata": {
        "colab": {
          "base_uri": "https://localhost:8080/"
        },
        "id": "juWwg0Nhe2ak",
        "outputId": "e6b6b6a9-863f-4162-a4f5-9f67efecd5cc"
      },
      "source": [
        "print(\"The percentage of 1 class in train data: {}%\".format(round(len([x for x in y_train if x == 1]) / len(y_train) * 100), 2))\r\n",
        "\r\n",
        "print(\"The percentage of  1 class in test data: {}%\".format(round(len([x for x in y_test if x == 1]) / len(y_test)* 100), 2))"
      ],
      "execution_count": 72,
      "outputs": [
        {
          "output_type": "stream",
          "text": [
            "The percentage of 1 class in train data: 20%\n",
            "The percentage of  1 class in test data: 20%\n"
          ],
          "name": "stdout"
        }
      ]
    },
    {
      "cell_type": "code",
      "metadata": {
        "id": "KK91mb9Tgbz6"
      },
      "source": [
        "# Feature Scaling in order to normalize  / scale the data\r\n",
        "from sklearn.preprocessing import StandardScaler\r\n",
        "scaler = StandardScaler()\r\n",
        "X_train = scaler.fit_transform(X_train)\r\n",
        "X_test = scaler.fit_transform(X_test)"
      ],
      "execution_count": 73,
      "outputs": []
    },
    {
      "cell_type": "code",
      "metadata": {
        "id": "MfdrJ1A4gwdM"
      },
      "source": [
        "# Building the Simple Neural Network\r\n",
        "model = tf.keras.models.Sequential()\r\n",
        "\r\n",
        "# Add the input layer and hidden layer\r\n",
        "model.add(tf.keras.layers.Dense(units=6, activation=\"relu\")) # input layer\r\n",
        "model.add(tf.keras.layers.Dense(units=6, activation=\"relu\")) # second layer\r\n",
        "model.add(tf.keras.layers.Dense(units=1, activation=\"sigmoid\")) # the output layer"
      ],
      "execution_count": 75,
      "outputs": []
    },
    {
      "cell_type": "code",
      "metadata": {
        "id": "iIDngxEJsjgb"
      },
      "source": [
        "model.compile(optimizer=\"adam\", loss='binary_crossentropy', metrics=['accuracy'])"
      ],
      "execution_count": 77,
      "outputs": []
    },
    {
      "cell_type": "code",
      "metadata": {
        "colab": {
          "base_uri": "https://localhost:8080/"
        },
        "id": "mQrvIu1rtz_r",
        "outputId": "720f34c1-e94f-4561-c965-44a0d628eea9"
      },
      "source": [
        "model.fit(X_train, y_train, batch_size=25, epochs=25, workers=-1, use_multiprocessing=True)"
      ],
      "execution_count": 79,
      "outputs": [
        {
          "output_type": "stream",
          "text": [
            "Epoch 1/25\n",
            "320/320 [==============================] - 1s 1ms/step - loss: 0.5764 - accuracy: 0.7593\n",
            "Epoch 2/25\n",
            "320/320 [==============================] - 0s 1ms/step - loss: 0.4475 - accuracy: 0.8004\n",
            "Epoch 3/25\n",
            "320/320 [==============================] - 0s 1ms/step - loss: 0.4413 - accuracy: 0.8022\n",
            "Epoch 4/25\n",
            "320/320 [==============================] - 0s 1ms/step - loss: 0.4182 - accuracy: 0.8307\n",
            "Epoch 5/25\n",
            "320/320 [==============================] - 0s 1ms/step - loss: 0.4244 - accuracy: 0.8240\n",
            "Epoch 6/25\n",
            "320/320 [==============================] - 0s 1ms/step - loss: 0.4141 - accuracy: 0.8290\n",
            "Epoch 7/25\n",
            "320/320 [==============================] - 0s 1ms/step - loss: 0.4254 - accuracy: 0.8209\n",
            "Epoch 8/25\n",
            "320/320 [==============================] - 0s 1ms/step - loss: 0.3997 - accuracy: 0.8327\n",
            "Epoch 9/25\n",
            "320/320 [==============================] - 0s 1ms/step - loss: 0.4160 - accuracy: 0.8302\n",
            "Epoch 10/25\n",
            "320/320 [==============================] - 0s 1ms/step - loss: 0.3940 - accuracy: 0.8361\n",
            "Epoch 11/25\n",
            "320/320 [==============================] - 0s 1ms/step - loss: 0.4014 - accuracy: 0.8318\n",
            "Epoch 12/25\n",
            "320/320 [==============================] - 0s 1ms/step - loss: 0.4029 - accuracy: 0.8389\n",
            "Epoch 13/25\n",
            "320/320 [==============================] - 0s 1ms/step - loss: 0.4106 - accuracy: 0.8269\n",
            "Epoch 14/25\n",
            "320/320 [==============================] - 0s 1ms/step - loss: 0.4086 - accuracy: 0.8287\n",
            "Epoch 15/25\n",
            "320/320 [==============================] - 0s 1ms/step - loss: 0.3902 - accuracy: 0.8386\n",
            "Epoch 16/25\n",
            "320/320 [==============================] - 0s 1ms/step - loss: 0.3867 - accuracy: 0.8385\n",
            "Epoch 17/25\n",
            "320/320 [==============================] - 0s 1ms/step - loss: 0.3807 - accuracy: 0.8430\n",
            "Epoch 18/25\n",
            "320/320 [==============================] - 0s 1ms/step - loss: 0.3711 - accuracy: 0.8466\n",
            "Epoch 19/25\n",
            "320/320 [==============================] - 0s 1ms/step - loss: 0.3851 - accuracy: 0.8430\n",
            "Epoch 20/25\n",
            "320/320 [==============================] - 0s 1ms/step - loss: 0.3684 - accuracy: 0.8465\n",
            "Epoch 21/25\n",
            "320/320 [==============================] - 0s 1ms/step - loss: 0.3617 - accuracy: 0.8498\n",
            "Epoch 22/25\n",
            "320/320 [==============================] - 0s 1ms/step - loss: 0.3592 - accuracy: 0.8500\n",
            "Epoch 23/25\n",
            "320/320 [==============================] - 0s 1ms/step - loss: 0.3578 - accuracy: 0.8564\n",
            "Epoch 24/25\n",
            "320/320 [==============================] - 0s 1ms/step - loss: 0.3539 - accuracy: 0.8569\n",
            "Epoch 25/25\n",
            "320/320 [==============================] - 0s 1ms/step - loss: 0.3478 - accuracy: 0.8580\n"
          ],
          "name": "stdout"
        },
        {
          "output_type": "execute_result",
          "data": {
            "text/plain": [
              "<tensorflow.python.keras.callbacks.History at 0x7fcae9af05f8>"
            ]
          },
          "metadata": {
            "tags": []
          },
          "execution_count": 79
        }
      ]
    },
    {
      "cell_type": "code",
      "metadata": {
        "colab": {
          "base_uri": "https://localhost:8080/"
        },
        "id": "yhrBcfY9uUnp",
        "outputId": "f78e8585-0730-48b2-c8f3-bd7ae077cde9"
      },
      "source": [
        "model.predict(scaler.fit_transform([[1, 0, 0, 600, 1, 40, 3, 60000, 2, 1, 1, 50000]])) # the predicted probability of churn"
      ],
      "execution_count": 80,
      "outputs": [
        {
          "output_type": "execute_result",
          "data": {
            "text/plain": [
              "array([[0.05444023]], dtype=float32)"
            ]
          },
          "metadata": {
            "tags": []
          },
          "execution_count": 80
        }
      ]
    },
    {
      "cell_type": "code",
      "metadata": {
        "colab": {
          "base_uri": "https://localhost:8080/"
        },
        "id": "BZNR1-enzO8d",
        "outputId": "460f217a-1b5a-4cfb-dd8f-73de650edd1c"
      },
      "source": [
        "y_pred = model.predict(X_test)\r\n",
        "y_pred = (y_pred > 0.51)\r\n",
        "print(np.concatenate((y_pred.reshape(len(y_pred), 1), y_test.reshape(len(y_test), 1)), 1))"
      ],
      "execution_count": 81,
      "outputs": [
        {
          "output_type": "stream",
          "text": [
            "[[0 0]\n",
            " [0 0]\n",
            " [0 0]\n",
            " ...\n",
            " [1 1]\n",
            " [0 0]\n",
            " [0 0]]\n"
          ],
          "name": "stdout"
        }
      ]
    },
    {
      "cell_type": "code",
      "metadata": {
        "colab": {
          "base_uri": "https://localhost:8080/"
        },
        "id": "_1CuLipD0Kib",
        "outputId": "5393d325-da48-4425-a2d7-eb663359f136"
      },
      "source": [
        "from sklearn.metrics import confusion_matrix, accuracy_score\r\n",
        "matrix = confusion_matrix(y_test, y_pred)\r\n",
        "print(matrix)\r\n",
        "accuracy_score(y_test, y_pred)"
      ],
      "execution_count": 83,
      "outputs": [
        {
          "output_type": "stream",
          "text": [
            "[[1550   43]\n",
            " [ 243  164]]\n"
          ],
          "name": "stdout"
        },
        {
          "output_type": "execute_result",
          "data": {
            "text/plain": [
              "0.857"
            ]
          },
          "metadata": {
            "tags": []
          },
          "execution_count": 83
        }
      ]
    },
    {
      "cell_type": "code",
      "metadata": {
        "id": "F7h9Nz980fK7"
      },
      "source": [
        ""
      ],
      "execution_count": null,
      "outputs": []
    }
  ]
}